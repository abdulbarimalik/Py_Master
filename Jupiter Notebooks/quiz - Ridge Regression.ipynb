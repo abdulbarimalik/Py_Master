{
 "cells": [
  {
   "cell_type": "markdown",
   "metadata": {},
   "source": [
    "<img src=\"images/lec4_pic55.png\">\n",
    "<img src=\"images/lec4_pic56.png\">\n",
    "<img src=\"images/lec4_pic57.png\">\n",
    "<img src=\"images/lec4_pic58.png\">\n",
    "<img src=\"images/lec4_pic59.png\">\n",
    "*Screenshot taken from [Coursera](https://www.coursera.org/learn/ml-regression/exam/REIRy/ridge-regression)*\n",
    "\n",
    "<!--TEASER_END-->"
   ]
  },
  {
   "cell_type": "markdown",
   "metadata": {},
   "source": [
    "<img src=\"images/lec4_pic60.png\">\n",
    "*Screenshot taken from [Coursera](https://www.coursera.org/learn/ml-regression/exam/REIRy/ridge-regression)*\n",
    "\n",
    "<!--TEASER_END-->"
   ]
  },
  {
   "cell_type": "markdown",
   "metadata": {},
   "source": [
    "**Discussion**\n",
    "https://www.coursera.org/learn/ml-regression/module/Uv1l0/discussions/kVwwe6eSEeW2LwpPVHyhww\n",
    "\n",
    "For each lambda, if you using LOO, you need to compute N (your observations) times where each time you need to trained a fitted model; if you K-fold CV, you need to compute K times where each time you need to trained a fitted model."
   ]
  },
  {
   "cell_type": "markdown",
   "metadata": {},
   "source": [
    "<img src=\"images/lec4_pic61.png\">\n",
    "*Screenshot taken from [Coursera](https://www.coursera.org/learn/ml-regression/exam/REIRy/ridge-regression)*\n",
    "\n",
    "<!--TEASER_END-->"
   ]
  },
  {
   "cell_type": "markdown",
   "metadata": {},
   "source": [
    "**Answer**\n",
    "- L = 100\n",
    "- N = 1,000,000\n",
    "- Cost(N-1,D) = 1 second\n",
    "\n",
    "Time = $L * N * Cost(N-1,D)$ = 100,000,000 seconds = 3 years"
   ]
  },
  {
   "cell_type": "markdown",
   "metadata": {},
   "source": [
    "<img src=\"images/lec4_pic62.png\">\n",
    "*Screenshot taken from [Coursera](https://www.coursera.org/learn/ml-regression/exam/REIRy/ridge-regression)*\n",
    "\n",
    "<!--TEASER_END-->"
   ]
  }
 ],
 "metadata": {
  "kernelspec": {
   "display_name": "Python 2",
   "language": "python",
   "name": "python2"
  },
  "language_info": {
   "codemirror_mode": {
    "name": "ipython",
    "version": 2
   },
   "file_extension": ".py",
   "mimetype": "text/x-python",
   "name": "python",
   "nbconvert_exporter": "python",
   "pygments_lexer": "ipython2",
   "version": "2.7.11"
  }
 },
 "nbformat": 4,
 "nbformat_minor": 0
}
