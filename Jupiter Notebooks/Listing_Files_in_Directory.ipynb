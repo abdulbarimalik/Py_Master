{
 "cells": [
  {
   "cell_type": "markdown",
   "metadata": {},
   "source": [
    "## List all Folders in Directory"
   ]
  },
  {
   "cell_type": "code",
   "execution_count": 22,
   "metadata": {
    "collapsed": false
   },
   "outputs": [
    {
     "name": "stdout",
     "output_type": "stream",
     "text": [
      "root prints out directories only from what you specified\n",
      "dirs prints out sub-directories from root\n",
      "files prints out all files from root and directories\n",
      "['102_NotOut', 'Airlift.2016', 'Bareilly.Ki.Barfi', 'Toilet.Ek.Prem.Katha']\n",
      "[]\n",
      "[]\n",
      "[]\n",
      "[]\n"
     ]
    }
   ],
   "source": [
    "import os, csv\n",
    "\n",
    "print(\"root prints out directories only from what you specified\")\n",
    "print(\"dirs prints out sub-directories from root\")\n",
    "print(\"files prints out all files from root and directories\")\n",
    "\n",
    "path = \"E:/Media/BollyWood\"\n",
    "\n",
    "#f=open(\"E:/Media/MediaFiles.csv\",'w')\n",
    "#w=csv.writer(f)\n",
    "\n",
    "with open(\"Media\",\"w\") as out_file:\n",
    "    for root, dirs, files in os.walk(path):\n",
    "        print(dirs)\n",
    "        out_string=\"\"\n",
    "        out_string+=str(dirs)\n",
    "        out_file.write(out_string)\n",
    "        #    print(root)\n",
    "        #    print(files)\n",
    "        "
   ]
  },
  {
   "cell_type": "code",
   "execution_count": null,
   "metadata": {
    "collapsed": true
   },
   "outputs": [],
   "source": []
  }
 ],
 "metadata": {
  "kernelspec": {
   "display_name": "Python 2",
   "language": "python",
   "name": "python2"
  },
  "language_info": {
   "codemirror_mode": {
    "name": "ipython",
    "version": 2
   },
   "file_extension": ".py",
   "mimetype": "text/x-python",
   "name": "python",
   "nbconvert_exporter": "python",
   "pygments_lexer": "ipython2",
   "version": "2.7.11"
  }
 },
 "nbformat": 4,
 "nbformat_minor": 0
}
